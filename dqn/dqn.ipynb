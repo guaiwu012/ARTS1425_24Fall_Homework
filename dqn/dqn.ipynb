{
 "cells": [
  {
   "cell_type": "code",
   "execution_count": 2,
   "metadata": {},
   "outputs": [
    {
     "name": "stdout",
     "output_type": "stream",
     "text": [
      "pygame 2.1.0 (SDL 2.0.16, Python 3.10.16)\n",
      "Hello from the pygame community. https://www.pygame.org/contribute.html\n"
     ]
    }
   ],
   "source": [
    "import torch\n",
    "import pygame\n",
    "\n",
    "import numpy as np\n",
    "import gymnasium as gym"
   ]
  },
  {
   "cell_type": "code",
   "execution_count": 10,
   "metadata": {},
   "outputs": [],
   "source": [
    "# Run the code below to test the environment with keyboard input\n",
    "env_name = \"Taxi-v3\"\n",
    "\n",
    "actions = {\n",
    "    pygame.K_DOWN: 0,    # move south\n",
    "    pygame.K_UP: 1,      # move north\n",
    "    pygame.K_RIGHT: 2,   # move east\n",
    "    pygame.K_LEFT: 3,    # move west\n",
    "    pygame.K_j: 4,       # pickup\n",
    "    pygame.K_k: 5,       # dropoff\n",
    "}\n",
    "\n",
    "pygame.init()\n",
    "env = gym.make(env_name, render_mode=\"human\")\n",
    "\n",
    "# Reset the environment with a seed\n",
    "env.reset()\n",
    "\n",
    "# Game loop\n",
    "done = False\n",
    "while not done:\n",
    "    # Render the environment\n",
    "    env.render()\n",
    "\n",
    "    # Check for events (keyboard input)\n",
    "    for event in pygame.event.get():\n",
    "        if event.type == pygame.QUIT:  # If the window close button is pressed\n",
    "            done = True\n",
    "        elif event.type == pygame.KEYDOWN:\n",
    "            if event.key == pygame.K_ESCAPE:  # If ESC is pressed\n",
    "                done = True\n",
    "\n",
    "    # Default action (no key pressed)\n",
    "    action = -2\n",
    "\n",
    "    # Check for key press and map it to action\n",
    "    keys = pygame.key.get_pressed()\n",
    "    for key, action_value in actions.items():\n",
    "        if keys[key]:\n",
    "            action = action_value\n",
    "            break\n",
    "\n",
    "    if action == -2:\n",
    "        continue\n",
    "\n",
    "    # Step through the environment with the chosen action\n",
    "    observation, reward, terminated, truncated, info = env.step(action)\n",
    "\n",
    "    # Check if the episode is over\n",
    "    if terminated or truncated:\n",
    "        observation, info = env.reset()\n",
    "\n",
    "# Close the environment after the game loop\n",
    "env.close()\n",
    "pygame.quit()\n"
   ]
  },
  {
   "cell_type": "code",
   "execution_count": 11,
   "metadata": {},
   "outputs": [],
   "source": [
    "class ReplayBuffer:\n",
    "    def __init__(self, capacity):\n",
    "        NotImplemented\n",
    "\n",
    "    def add(self, state, action, reward, next_state, done):\n",
    "        NotImplemented\n",
    "\n",
    "    def sample(self, batch_size):\n",
    "        NotImplemented\n",
    "\n",
    "class QNet(torch.nn.Module):\n",
    "    def __init__(self, state_dim, action_dim):\n",
    "        super(QNet, self).__init__()\n",
    "        NotImplemented\n",
    "\n",
    "    def forward(self, x):\n",
    "        NotImplemented\n",
    "\n",
    "class DQN:\n",
    "    def __init__(self, states, actions, device):\n",
    "        self.device = device\n",
    "        self.action = actions\n",
    "        self.q_net = QNet(states, actions).to(device)\n",
    "        self.target_q_net = QNet(states, actions).to(device)\n",
    "        NotImplemented\n",
    "\n",
    "    def take_action(self, state):\n",
    "        NotImplemented\n",
    "\n",
    "    def update(self):\n",
    "        NotImplemented"
   ]
  },
  {
   "cell_type": "code",
   "execution_count": 12,
   "metadata": {},
   "outputs": [],
   "source": [
    "device = torch.device(\"cuda\") if torch.cuda.is_available() else torch.device(\"cpu\")\n",
    "\n",
    "env = gym.make(env_name, render_mode=\"rgb_array\")\n",
    "\n",
    "obs_space = env.observation_space.n   # 500, discrete\n",
    "action_space = env.action_space.n   # 6, discrete\n",
    "\n",
    "# The observation_space of Taxi-v3 is Discrete(500), meaning that each state is represented by an integer.\n",
    "# When using DQN, this integer needs to be converted into a form suitable for neural network processing. (One-hot encoding)\n",
    "\n",
    "def one_hot(state, state_size):\n",
    "    vec = np.zeros(state_size)\n",
    "    vec[state] = 1\n",
    "    return vec\n",
    "\n",
    "state, _ = env.reset()\n",
    "\n",
    "episodes = 500\n",
    "batch_size = 32\n",
    "buffer_size = 128\n",
    "min_buffer_size = 64\n",
    "\n",
    "replay_buffer = ReplayBuffer(buffer_size)\n",
    "agent = DQN(obs_space, action_space, device)\n",
    "\n",
    "# Training Code Below\n"
   ]
  },
  {
   "cell_type": "code",
   "execution_count": null,
   "metadata": {},
   "outputs": [
    {
     "name": "stderr",
     "output_type": "stream",
     "text": [
      "Iteration 0: 100%|████████████████████████████████████████████████| 100/100 [01:16<00:00,  1.31it/s]\n"
     ]
    },
    {
     "name": "stdout",
     "output_type": "stream",
     "text": [
      "Episode: 100, Average Return: -1359.41\n"
     ]
    },
    {
     "name": "stderr",
     "output_type": "stream",
     "text": [
      "Iteration 1: 100%|████████████████████████████████████████████████| 100/100 [01:33<00:00,  1.07it/s]\n"
     ]
    },
    {
     "name": "stdout",
     "output_type": "stream",
     "text": [
      "Episode: 200, Average Return: -1112.01\n"
     ]
    },
    {
     "name": "stderr",
     "output_type": "stream",
     "text": [
      "Iteration 2: 100%|████████████████████████████████████████████████| 100/100 [01:16<00:00,  1.31it/s]\n"
     ]
    },
    {
     "name": "stdout",
     "output_type": "stream",
     "text": [
      "Episode: 300, Average Return: -757.60\n"
     ]
    },
    {
     "name": "stderr",
     "output_type": "stream",
     "text": [
      "Iteration 3: 100%|████████████████████████████████████████████████| 100/100 [00:50<00:00,  1.97it/s]\n"
     ]
    },
    {
     "name": "stdout",
     "output_type": "stream",
     "text": [
      "Episode: 400, Average Return: -451.59\n"
     ]
    },
    {
     "name": "stderr",
     "output_type": "stream",
     "text": [
      "Iteration 4: 100%|████████████████████████████████████████████████| 100/100 [00:30<00:00,  3.26it/s]\n"
     ]
    },
    {
     "name": "stdout",
     "output_type": "stream",
     "text": [
      "Episode: 500, Average Return: -201.42\n"
     ]
    },
    {
     "name": "stderr",
     "output_type": "stream",
     "text": [
      "Iteration 5: 100%|████████████████████████████████████████████████| 100/100 [00:20<00:00,  4.78it/s]\n"
     ]
    },
    {
     "name": "stdout",
     "output_type": "stream",
     "text": [
      "Episode: 600, Average Return: -89.65\n"
     ]
    },
    {
     "name": "stderr",
     "output_type": "stream",
     "text": [
      "Iteration 6: 100%|████████████████████████████████████████████████| 100/100 [00:18<00:00,  5.40it/s]\n"
     ]
    },
    {
     "name": "stdout",
     "output_type": "stream",
     "text": [
      "Episode: 700, Average Return: -59.51\n"
     ]
    },
    {
     "name": "stderr",
     "output_type": "stream",
     "text": [
      "Iteration 7: 100%|████████████████████████████████████████████████| 100/100 [00:14<00:00,  6.70it/s]\n"
     ]
    },
    {
     "name": "stdout",
     "output_type": "stream",
     "text": [
      "Episode: 800, Average Return: -23.55\n"
     ]
    },
    {
     "name": "stderr",
     "output_type": "stream",
     "text": [
      "Iteration 8: 100%|████████████████████████████████████████████████| 100/100 [00:13<00:00,  7.47it/s]\n"
     ]
    },
    {
     "name": "stdout",
     "output_type": "stream",
     "text": [
      "Episode: 900, Average Return: -7.50\n"
     ]
    },
    {
     "name": "stderr",
     "output_type": "stream",
     "text": [
      "Iteration 9: 100%|████████████████████████████████████████████████| 100/100 [00:12<00:00,  7.87it/s]\n"
     ]
    },
    {
     "name": "stdout",
     "output_type": "stream",
     "text": [
      "Episode: 1000, Average Return: -5.92\n"
     ]
    },
    {
     "name": "stderr",
     "output_type": "stream",
     "text": [
      "Iteration 10: 100%|███████████████████████████████████████████████| 100/100 [00:12<00:00,  8.03it/s]\n"
     ]
    },
    {
     "name": "stdout",
     "output_type": "stream",
     "text": [
      "Episode: 1100, Average Return: 8.38\n"
     ]
    },
    {
     "name": "stderr",
     "output_type": "stream",
     "text": [
      "Iteration 11: 100%|███████████████████████████████████████████████| 100/100 [00:11<00:00,  8.81it/s]\n"
     ]
    },
    {
     "name": "stdout",
     "output_type": "stream",
     "text": [
      "Episode: 1200, Average Return: 19.65\n"
     ]
    },
    {
     "name": "stderr",
     "output_type": "stream",
     "text": [
      "Iteration 12: 100%|███████████████████████████████████████████████| 100/100 [00:12<00:00,  7.96it/s]\n"
     ]
    },
    {
     "name": "stdout",
     "output_type": "stream",
     "text": [
      "Episode: 1300, Average Return: 10.49\n"
     ]
    },
    {
     "name": "stderr",
     "output_type": "stream",
     "text": [
      "Iteration 13: 100%|███████████████████████████████████████████████| 100/100 [00:10<00:00,  9.42it/s]\n"
     ]
    },
    {
     "name": "stdout",
     "output_type": "stream",
     "text": [
      "Episode: 1400, Average Return: 24.77\n"
     ]
    },
    {
     "name": "stderr",
     "output_type": "stream",
     "text": [
      "Iteration 14: 100%|███████████████████████████████████████████████| 100/100 [00:10<00:00, 10.00it/s]\n"
     ]
    },
    {
     "name": "stdout",
     "output_type": "stream",
     "text": [
      "Episode: 1500, Average Return: 31.42\n"
     ]
    },
    {
     "name": "stderr",
     "output_type": "stream",
     "text": [
      "Iteration 15: 100%|███████████████████████████████████████████████| 100/100 [00:10<00:00,  9.77it/s]\n"
     ]
    },
    {
     "name": "stdout",
     "output_type": "stream",
     "text": [
      "Episode: 1600, Average Return: 30.93\n"
     ]
    },
    {
     "name": "stderr",
     "output_type": "stream",
     "text": [
      "Iteration 16: 100%|███████████████████████████████████████████████| 100/100 [00:09<00:00, 10.63it/s]\n"
     ]
    },
    {
     "name": "stdout",
     "output_type": "stream",
     "text": [
      "Episode: 1700, Average Return: 37.64\n"
     ]
    },
    {
     "name": "stderr",
     "output_type": "stream",
     "text": [
      "Iteration 17: 100%|███████████████████████████████████████████████| 100/100 [00:09<00:00, 10.34it/s]\n"
     ]
    },
    {
     "name": "stdout",
     "output_type": "stream",
     "text": [
      "Episode: 1800, Average Return: 37.74\n"
     ]
    },
    {
     "name": "stderr",
     "output_type": "stream",
     "text": [
      "Iteration 18: 100%|███████████████████████████████████████████████| 100/100 [00:09<00:00, 10.85it/s]\n"
     ]
    },
    {
     "name": "stdout",
     "output_type": "stream",
     "text": [
      "Episode: 1900, Average Return: 41.88\n"
     ]
    },
    {
     "name": "stderr",
     "output_type": "stream",
     "text": [
      "Iteration 19: 100%|███████████████████████████████████████████████| 100/100 [00:09<00:00, 10.61it/s]\n"
     ]
    },
    {
     "name": "stdout",
     "output_type": "stream",
     "text": [
      "Episode: 2000, Average Return: 40.37\n"
     ]
    },
    {
     "name": "stderr",
     "output_type": "stream",
     "text": [
      "Iteration 20: 100%|███████████████████████████████████████████████| 100/100 [00:08<00:00, 11.47it/s]\n"
     ]
    },
    {
     "name": "stdout",
     "output_type": "stream",
     "text": [
      "Episode: 2100, Average Return: 46.46\n"
     ]
    },
    {
     "name": "stderr",
     "output_type": "stream",
     "text": [
      "Iteration 21: 100%|███████████████████████████████████████████████| 100/100 [00:08<00:00, 11.69it/s]\n"
     ]
    },
    {
     "name": "stdout",
     "output_type": "stream",
     "text": [
      "Episode: 2200, Average Return: 47.47\n"
     ]
    },
    {
     "name": "stderr",
     "output_type": "stream",
     "text": [
      "Iteration 22: 100%|███████████████████████████████████████████████| 100/100 [00:08<00:00, 11.28it/s]\n"
     ]
    },
    {
     "name": "stdout",
     "output_type": "stream",
     "text": [
      "Episode: 2300, Average Return: 47.27\n"
     ]
    },
    {
     "name": "stderr",
     "output_type": "stream",
     "text": [
      "Iteration 23: 100%|███████████████████████████████████████████████| 100/100 [00:08<00:00, 11.15it/s]\n"
     ]
    },
    {
     "name": "stdout",
     "output_type": "stream",
     "text": [
      "Episode: 2400, Average Return: 47.16\n"
     ]
    },
    {
     "name": "stderr",
     "output_type": "stream",
     "text": [
      "Iteration 24: 100%|███████████████████████████████████████████████| 100/100 [00:08<00:00, 11.49it/s]\n"
     ]
    },
    {
     "name": "stdout",
     "output_type": "stream",
     "text": [
      "Episode: 2500, Average Return: 49.54\n"
     ]
    },
    {
     "name": "stderr",
     "output_type": "stream",
     "text": [
      "Iteration 25: 100%|███████████████████████████████████████████████| 100/100 [00:08<00:00, 11.25it/s]\n"
     ]
    },
    {
     "name": "stdout",
     "output_type": "stream",
     "text": [
      "Episode: 2600, Average Return: 48.21\n"
     ]
    },
    {
     "name": "stderr",
     "output_type": "stream",
     "text": [
      "Iteration 26: 100%|███████████████████████████████████████████████| 100/100 [00:08<00:00, 11.34it/s]\n"
     ]
    },
    {
     "name": "stdout",
     "output_type": "stream",
     "text": [
      "Episode: 2700, Average Return: 47.90\n"
     ]
    },
    {
     "name": "stderr",
     "output_type": "stream",
     "text": [
      "Iteration 27: 100%|███████████████████████████████████████████████| 100/100 [00:08<00:00, 11.13it/s]\n"
     ]
    },
    {
     "name": "stdout",
     "output_type": "stream",
     "text": [
      "Episode: 2800, Average Return: 45.73\n"
     ]
    },
    {
     "name": "stderr",
     "output_type": "stream",
     "text": [
      "Iteration 28: 100%|███████████████████████████████████████████████| 100/100 [00:08<00:00, 11.48it/s]\n"
     ]
    },
    {
     "name": "stdout",
     "output_type": "stream",
     "text": [
      "Episode: 2900, Average Return: 48.69\n"
     ]
    },
    {
     "name": "stderr",
     "output_type": "stream",
     "text": [
      "Iteration 29: 100%|███████████████████████████████████████████████| 100/100 [00:08<00:00, 11.92it/s]\n"
     ]
    },
    {
     "name": "stdout",
     "output_type": "stream",
     "text": [
      "Episode: 3000, Average Return: 49.09\n"
     ]
    },
    {
     "name": "stderr",
     "output_type": "stream",
     "text": [
      "Iteration 30: 100%|███████████████████████████████████████████████| 100/100 [00:09<00:00, 10.96it/s]\n"
     ]
    },
    {
     "name": "stdout",
     "output_type": "stream",
     "text": [
      "Episode: 3100, Average Return: 47.92\n"
     ]
    },
    {
     "name": "stderr",
     "output_type": "stream",
     "text": [
      "Iteration 31: 100%|███████████████████████████████████████████████| 100/100 [00:08<00:00, 11.19it/s]\n"
     ]
    },
    {
     "name": "stdout",
     "output_type": "stream",
     "text": [
      "Episode: 3200, Average Return: 46.77\n"
     ]
    },
    {
     "name": "stderr",
     "output_type": "stream",
     "text": [
      "Iteration 32: 100%|███████████████████████████████████████████████| 100/100 [00:08<00:00, 11.31it/s]\n"
     ]
    },
    {
     "name": "stdout",
     "output_type": "stream",
     "text": [
      "Episode: 3300, Average Return: 46.00\n"
     ]
    },
    {
     "name": "stderr",
     "output_type": "stream",
     "text": [
      "Iteration 33: 100%|███████████████████████████████████████████████| 100/100 [00:08<00:00, 11.50it/s]\n"
     ]
    },
    {
     "name": "stdout",
     "output_type": "stream",
     "text": [
      "Episode: 3400, Average Return: 49.10\n"
     ]
    },
    {
     "name": "stderr",
     "output_type": "stream",
     "text": [
      "Iteration 34: 100%|███████████████████████████████████████████████| 100/100 [00:08<00:00, 11.61it/s]\n"
     ]
    },
    {
     "name": "stdout",
     "output_type": "stream",
     "text": [
      "Episode: 3500, Average Return: 45.74\n"
     ]
    },
    {
     "name": "stderr",
     "output_type": "stream",
     "text": [
      "Iteration 35: 100%|███████████████████████████████████████████████| 100/100 [00:08<00:00, 11.79it/s]\n"
     ]
    },
    {
     "name": "stdout",
     "output_type": "stream",
     "text": [
      "Episode: 3600, Average Return: 49.20\n"
     ]
    },
    {
     "name": "stderr",
     "output_type": "stream",
     "text": [
      "Iteration 36: 100%|███████████████████████████████████████████████| 100/100 [00:08<00:00, 12.22it/s]\n"
     ]
    },
    {
     "name": "stdout",
     "output_type": "stream",
     "text": [
      "Episode: 3700, Average Return: 47.98\n"
     ]
    },
    {
     "name": "stderr",
     "output_type": "stream",
     "text": [
      "Iteration 37: 100%|███████████████████████████████████████████████| 100/100 [00:08<00:00, 11.45it/s]\n"
     ]
    },
    {
     "name": "stdout",
     "output_type": "stream",
     "text": [
      "Episode: 3800, Average Return: 50.62\n"
     ]
    },
    {
     "name": "stderr",
     "output_type": "stream",
     "text": [
      "Iteration 38: 100%|███████████████████████████████████████████████| 100/100 [00:08<00:00, 11.92it/s]\n"
     ]
    },
    {
     "name": "stdout",
     "output_type": "stream",
     "text": [
      "Episode: 3900, Average Return: 49.91\n"
     ]
    },
    {
     "name": "stderr",
     "output_type": "stream",
     "text": [
      "Iteration 39: 100%|███████████████████████████████████████████████| 100/100 [00:09<00:00, 11.08it/s]\n"
     ]
    },
    {
     "name": "stdout",
     "output_type": "stream",
     "text": [
      "Episode: 4000, Average Return: 46.21\n"
     ]
    },
    {
     "name": "stderr",
     "output_type": "stream",
     "text": [
      "Iteration 40: 100%|███████████████████████████████████████████████| 100/100 [00:08<00:00, 11.41it/s]\n"
     ]
    },
    {
     "name": "stdout",
     "output_type": "stream",
     "text": [
      "Episode: 4100, Average Return: 48.73\n"
     ]
    },
    {
     "name": "stderr",
     "output_type": "stream",
     "text": [
      "Iteration 41: 100%|███████████████████████████████████████████████| 100/100 [00:08<00:00, 11.38it/s]\n"
     ]
    },
    {
     "name": "stdout",
     "output_type": "stream",
     "text": [
      "Episode: 4200, Average Return: 48.60\n"
     ]
    },
    {
     "name": "stderr",
     "output_type": "stream",
     "text": [
      "Iteration 42: 100%|███████████████████████████████████████████████| 100/100 [00:08<00:00, 11.27it/s]\n"
     ]
    },
    {
     "name": "stdout",
     "output_type": "stream",
     "text": [
      "Episode: 4300, Average Return: 49.66\n"
     ]
    },
    {
     "name": "stderr",
     "output_type": "stream",
     "text": [
      "Iteration 43: 100%|███████████████████████████████████████████████| 100/100 [00:08<00:00, 12.08it/s]\n"
     ]
    },
    {
     "name": "stdout",
     "output_type": "stream",
     "text": [
      "Episode: 4400, Average Return: 49.60\n"
     ]
    },
    {
     "name": "stderr",
     "output_type": "stream",
     "text": [
      "Iteration 44: 100%|███████████████████████████████████████████████| 100/100 [00:08<00:00, 11.80it/s]\n"
     ]
    },
    {
     "name": "stdout",
     "output_type": "stream",
     "text": [
      "Episode: 4500, Average Return: 49.52\n"
     ]
    },
    {
     "name": "stderr",
     "output_type": "stream",
     "text": [
      "Iteration 45: 100%|███████████████████████████████████████████████| 100/100 [00:08<00:00, 11.94it/s]\n"
     ]
    },
    {
     "name": "stdout",
     "output_type": "stream",
     "text": [
      "Episode: 4600, Average Return: 50.40\n"
     ]
    },
    {
     "name": "stderr",
     "output_type": "stream",
     "text": [
      "Iteration 46: 100%|███████████████████████████████████████████████| 100/100 [00:08<00:00, 11.20it/s]\n"
     ]
    },
    {
     "name": "stdout",
     "output_type": "stream",
     "text": [
      "Episode: 4700, Average Return: 47.77\n"
     ]
    },
    {
     "name": "stderr",
     "output_type": "stream",
     "text": [
      "Iteration 47: 100%|███████████████████████████████████████████████| 100/100 [00:08<00:00, 11.50it/s]\n"
     ]
    },
    {
     "name": "stdout",
     "output_type": "stream",
     "text": [
      "Episode: 4800, Average Return: 49.90\n"
     ]
    },
    {
     "name": "stderr",
     "output_type": "stream",
     "text": [
      "Iteration 48: 100%|███████████████████████████████████████████████| 100/100 [00:08<00:00, 11.59it/s]\n"
     ]
    },
    {
     "name": "stdout",
     "output_type": "stream",
     "text": [
      "Episode: 4900, Average Return: 47.68\n"
     ]
    },
    {
     "name": "stderr",
     "output_type": "stream",
     "text": [
      "Iteration 49: 100%|███████████████████████████████████████████████| 100/100 [00:09<00:00, 10.98it/s]\n"
     ]
    },
    {
     "name": "stdout",
     "output_type": "stream",
     "text": [
      "Episode: 5000, Average Return: 47.78\n"
     ]
    },
    {
     "data": {
      "image/png": "[encoded data removed]",
      "text/plain": [
       "<Figure size 1500x500 with 3 Axes>"
      ]
     },
     "metadata": {},
     "output_type": "display_data"
    }
   ],
   "source": [
    "import torch.nn as nn\n",
    "import torch.optim as optim\n",
    "import matplotlib.pyplot as plt\n",
    "import random\n",
    "from collections import deque\n",
    "from tqdm import tqdm\n",
    "\n",
    "class ReplayBuffer:\n",
    "    def __init__(self, capacity):\n",
    "        self.buffer = deque(maxlen=capacity)\n",
    "    \n",
    "    def add(self, state, action, reward, next_state, done):\n",
    "        self.buffer.append((state, action, reward, next_state, done))\n",
    "    \n",
    "    def sample(self, batch_size):\n",
    "        batch = random.sample(self.buffer, batch_size)\n",
    "        states, actions, rewards, next_states, dones = zip(*batch)\n",
    "        return np.array(states, dtype=np.float32), np.array(actions), \\\n",
    "               np.array(rewards, dtype=np.float32), np.array(next_states, dtype=np.float32), np.array(dones, dtype=np.float32)\n",
    "    \n",
    "    def size(self):\n",
    "        return len(self.buffer)\n",
    "\n",
    "\n",
    "class QNet(nn.Module):\n",
    "    def __init__(self, state_dim, action_dim):\n",
    "        super(QNet, self).__init__()\n",
    "        self.fc1 = nn.Linear(state_dim, 1024)\n",
    "        self.fc2 = nn.Linear(1024, 512)\n",
    "        self.fc3 = nn.Linear(512, 256)\n",
    "        self.fc4 = nn.Linear(256, action_dim)\n",
    "        \n",
    "    def forward(self, x):\n",
    "        x = torch.relu(self.fc1(x))\n",
    "        x = torch.relu(self.fc2(x))\n",
    "        x = torch.relu(self.fc3(x))\n",
    "        x = self.fc4(x)\n",
    "        return x\n",
    "\n",
    "\n",
    "class DQN:\n",
    "    def __init__(self, state_dim, action_dim, device, gamma=0.99, lr=1e-3, tau=0.005):\n",
    "        self.device = device\n",
    "        self.action_dim = action_dim\n",
    "        self.gamma = gamma\n",
    "        self.tau = tau\n",
    "        \n",
    "        self.q_net = QNet(state_dim, action_dim).to(device)\n",
    "        self.target_q_net = QNet(state_dim, action_dim).to(device)\n",
    "        self.target_q_net.load_state_dict(self.q_net.state_dict())\n",
    "        \n",
    "        self.optimizer = optim.Adam(self.q_net.parameters(), lr=lr)\n",
    "        \n",
    "    def take_action(self, state, epsilon):\n",
    "        if np.random.rand() < epsilon:\n",
    "            return np.random.randint(self.action_dim)  # Explore\n",
    "        else:\n",
    "            state_tensor = torch.tensor(state, dtype=torch.float32).unsqueeze(0).to(self.device)\n",
    "            with torch.no_grad():\n",
    "                q_values = self.q_net(state_tensor)\n",
    "            return q_values.argmax(dim=1).item()  # Exploit\n",
    "    \n",
    "    def update(self, replay_buffer, batch_size):\n",
    "        states, actions, rewards, next_states, dones = replay_buffer.sample(batch_size)\n",
    "        \n",
    "        states = torch.tensor(states, dtype=torch.float32).to(self.device)\n",
    "        actions = torch.tensor(actions, dtype=torch.int64).to(self.device)\n",
    "        rewards = torch.tensor(rewards, dtype=torch.float32).to(self.device)\n",
    "        next_states = torch.tensor(next_states, dtype=torch.float32).to(self.device)\n",
    "        dones = torch.tensor(dones, dtype=torch.float32).to(self.device)\n",
    "        \n",
    "        q_values = self.q_net(states).gather(1, actions.unsqueeze(1)).squeeze(1)\n",
    "        with torch.no_grad():\n",
    "            next_q_values = self.target_q_net(next_states).max(dim=1)[0]\n",
    "        \n",
    "        target_q_values = rewards + (1 - dones) * self.gamma * next_q_values\n",
    "        loss = nn.MSELoss()(q_values, target_q_values)\n",
    "        \n",
    "        self.optimizer.zero_grad()\n",
    "        loss.backward()\n",
    "        self.optimizer.step()\n",
    "        \n",
    "        return loss.item()\n",
    "    \n",
    "    def soft_update(self):\n",
    "        for target_param, param in zip(self.target_q_net.parameters(), self.q_net.parameters()):\n",
    "            target_param.data.copy_(self.tau * param.data + (1.0 - self.tau) * target_param.data)\n",
    "\n",
    "\n",
    "# One-hot\n",
    "def one_hot(state, state_dim):\n",
    "    vec = np.zeros(state_dim, dtype=np.float32)\n",
    "    vec[state] = 1.0\n",
    "    return vec\n",
    "\n",
    "\n",
    "# Optimized reward function\n",
    "def compute_modified_reward(state, action, reward, done, info):\n",
    "\n",
    "    modified_reward = reward\n",
    "    \n",
    "    # 错误接客\n",
    "    if action == 4 and reward == -10: \n",
    "        modified_reward -= 10  # 额外惩罚\n",
    "\n",
    "    # 错误下客\n",
    "    if action == 5 and reward == -10: \n",
    "        modified_reward -= 10  \n",
    "\n",
    "    # 提前结束任务但没完成\n",
    "    if done and reward == -10:\n",
    "        modified_reward -= 50 \n",
    "\n",
    "    # 完成任务\n",
    "    if done and reward == 20: \n",
    "        modified_reward += 50  # 奖励\n",
    "    \n",
    "    return modified_reward\n",
    "\n",
    "\n",
    "\n",
    "env_name = \"Taxi-v3\"\n",
    "device = torch.device(\"cuda\") if torch.cuda.is_available() else torch.device(\"cpu\")\n",
    "env = gym.make(env_name)\n",
    "\n",
    "obs_space = env.observation_space.n\n",
    "action_space = env.action_space.n\n",
    "\n",
    "# parameters\n",
    "total_episodes = 5000\n",
    "episodes_per_iteration = 100\n",
    "iterations = total_episodes // episodes_per_iteration\n",
    "\n",
    "batch_size = 64\n",
    "buffer_size = 20000\n",
    "min_buffer_size = 5000\n",
    "epsilon_start = 1.0\n",
    "epsilon_end = 0.1\n",
    "epsilon_decay = 0.999  \n",
    "update_freq = 1\n",
    "\n",
    "replay_buffer = ReplayBuffer(buffer_size)\n",
    "agent = DQN(obs_space, action_space, device, gamma=0.99, lr=0.0001, tau=0.005)\n",
    "\n",
    "return_list = []\n",
    "length_list = []\n",
    "loss_list = []\n",
    "\n",
    "epsilon = epsilon_start\n",
    "total_steps = 0\n",
    "\n",
    "# tqdm\n",
    "for i_iter in range(iterations):\n",
    "    with tqdm(range(episodes_per_iteration), desc=f\"Iteration {i_iter}\", ncols=100) as pbar:\n",
    "        for i_episode_in_iter in pbar:\n",
    "            i_episode = i_iter * episodes_per_iteration + i_episode_in_iter\n",
    "            state, _ = env.reset(seed=i_episode)\n",
    "            state_vec = one_hot(state, obs_space)\n",
    "            done = False\n",
    "            episode_reward = 0\n",
    "            episode_length = 0\n",
    "            \n",
    "            while not done:\n",
    "                total_steps += 1\n",
    "                episode_length += 1\n",
    "                action = agent.take_action(state_vec, epsilon)\n",
    "                next_state, reward, terminated, truncated, info = env.step(action)\n",
    "                done = terminated or truncated\n",
    "                next_state_vec = one_hot(next_state, obs_space)\n",
    "\n",
    "                reward = compute_modified_reward(state, action, reward, done, info)\n",
    "                \n",
    "                replay_buffer.add(state_vec, action, reward, next_state_vec, done)\n",
    "                state_vec = next_state_vec\n",
    "                episode_reward += reward\n",
    "                \n",
    "                if replay_buffer.size() > min_buffer_size and total_steps % update_freq == 0:\n",
    "                    loss = agent.update(replay_buffer, batch_size)\n",
    "                    agent.soft_update()\n",
    "                    loss_list.append(loss)\n",
    "            \n",
    "            epsilon = max(epsilon_end, epsilon * epsilon_decay)\n",
    "            return_list.append(episode_reward)\n",
    "            length_list.append(episode_length)\n",
    "    \n",
    "    avg_return = np.mean(return_list[-episodes_per_iteration:])\n",
    "    print(f\"Episode: {(i_iter+1)*episodes_per_iteration}, Average Return: {avg_return:.2f}\")\n",
    "\n",
    "torch.save(agent.q_net.state_dict(), \"dqn_taxi_v3.pth\")\n",
    "\n",
    "fig, axes = plt.subplots(1, 3, figsize=(15, 5))\n",
    "\n",
    "# rewards\n",
    "axes[0].plot(return_list)\n",
    "axes[0].set_title(\"Episode Rewards\")\n",
    "axes[0].set_xlabel(\"Episode\")\n",
    "axes[0].set_ylabel(\"Reward\")\n",
    "axes[0].grid(True)\n",
    "\n",
    "# lengths\n",
    "axes[1].plot(length_list)\n",
    "axes[1].set_title(\"Episode Lengths\")\n",
    "axes[1].set_xlabel(\"Episode\")\n",
    "axes[1].set_ylabel(\"Length\")\n",
    "axes[1].grid(True)\n",
    "\n",
    "# Training Error\n",
    "axes[2].plot(loss_list)\n",
    "axes[2].set_title(\"Training Error\")\n",
    "axes[2].set_xlabel(\"Episode\")\n",
    "axes[2].set_ylabel(\"Loss\")\n",
    "axes[2].grid(True)\n",
    "\n",
    "plt.tight_layout()\n",
    "plt.show()\n"
   ]
  },
  {
   "cell_type": "code",
   "execution_count": null,
   "metadata": {},
   "outputs": [],
   "source": []
  }
 ],
 "metadata": {
  "kernelspec": {
   "display_name": "Python 3 (ipykernel)",
   "language": "python",
   "name": "python3"
  },
  "language_info": {
   "codemirror_mode": {
    "name": "ipython",
    "version": 3
   },
   "file_extension": ".py",
   "mimetype": "text/x-python",
   "name": "python",
   "nbconvert_exporter": "python",
   "pygments_lexer": "ipython3",
   "version": "3.9.12"
  }
 },
 "nbformat": 4,
 "nbformat_minor": 2
}
